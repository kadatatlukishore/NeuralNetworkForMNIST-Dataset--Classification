{
 "cells": [
  {
   "cell_type": "code",
   "execution_count": 1,
   "metadata": {},
   "outputs": [],
   "source": [
    "import pandas as pd\n",
    "import numpy as np\n",
    "from datetime import datetime, date, timedelta\n",
    "from pmdarima import auto_arima\n",
    "import statsmodels\n",
    "df = pd.read_csv(r\"C:\\Users\\vskis\\PycharmProjects\\CovidAnalysis\\data\\country.csv\")"
   ]
  },
  {
   "cell_type": "code",
   "execution_count": 2,
   "metadata": {},
   "outputs": [
    {
     "name": "stdout",
     "output_type": "stream",
     "text": [
      " ARIMA(0,1,2)(0,0,0)[1] intercept   : AIC=602.256, Time=0.12 sec\n",
      " ARIMA(3,1,0)(0,0,0)[1] intercept   : AIC=603.253, Time=0.02 sec\n",
      " ARIMA(0,1,3)(0,0,0)[1] intercept   : AIC=604.943, Time=0.02 sec\n",
      " ARIMA(2,1,0)(0,0,0)[1] intercept   : AIC=601.239, Time=0.01 sec\n",
      " ARIMA(1,1,2)(0,0,0)[1] intercept   : AIC=603.745, Time=0.03 sec\n",
      " ARIMA(2,1,1)(0,0,0)[1] intercept   : AIC=603.293, Time=0.03 sec\n",
      " ARIMA(2,1,3)(0,0,0)[1] intercept   : AIC=608.361, Time=0.14 sec\n",
      " ARIMA(3,1,2)(0,0,0)[1] intercept   : AIC=607.538, Time=0.05 sec\n",
      " ARIMA(1,1,0)(0,0,0)[1] intercept   : AIC=599.429, Time=0.01 sec\n",
      " ARIMA(0,1,0)(0,0,0)[1] intercept   : AIC=597.462, Time=0.00 sec\n",
      "\n",
      "Best model:  ARIMA(0,1,0)(0,0,0)[1] intercept\n",
      "Total fit time: 0.466 seconds\n"
     ]
    }
   ],
   "source": [
    "df = df[['dateymd', \"dailyconfirmed\"]]\n",
    "df.set_index('dateymd', inplace=True)\n",
    "\n",
    "train, test = df[-32:-2], df[-2:]\n",
    "test_index = test.index\n",
    "# trained only last month's data\n",
    "model = auto_arima(train, start_p=1, start_q=1,\n",
    "                   max_p=3, max_q=3, stepwise=False,\n",
    "                   random=True, trace=True, error_action='ignore',\n",
    "                   suppress_warnings=True)\n",
    "\n",
    "result = model.fit(train)\n",
    "test_predict = pd.DataFrame(result.predict(n_periods=2), index=test_index,\n",
    "                            columns=['Prediction cases'])\n",
    "\n",
    "index = pd.date_range(date.today(), periods=5)  # to get the dates for the next 5 Days including Today\n",
    "\n",
    "index.strftime('%Y-%m-%d')\n",
    "\n",
    "prediction = pd.DataFrame(result.predict(n_periods=7)[2:], index=index,\n",
    "                          columns=['Prediction_cases'])\n",
    "prediction['Prediction_cases'] = prediction['Prediction_cases'].astype(int)\n"
   ]
  },
  {
   "cell_type": "code",
   "execution_count": 12,
   "metadata": {},
   "outputs": [],
   "source": [
    "data = result.summary().tables[0][1][3]"
   ]
  },
  {
   "cell_type": "code",
   "execution_count": 20,
   "metadata": {},
   "outputs": [
    {
     "name": "stdout",
     "output_type": "stream",
     "text": [
      "-296.731\n"
     ]
    }
   ],
   "source": [
    "print(data[1][3])"
   ]
  },
  {
   "cell_type": "code",
   "execution_count": 22,
   "metadata": {},
   "outputs": [
    {
     "name": "stdout",
     "output_type": "stream",
     "text": [
      "-296.731\n"
     ]
    }
   ],
   "source": [
    "print(result)"
   ]
  },
  {
   "cell_type": "code",
   "execution_count": 23,
   "metadata": {},
   "outputs": [
    {
     "name": "stdout",
     "output_type": "stream",
     "text": [
      "597.462\n"
     ]
    }
   ],
   "source": [
    "print(result.summary().tables[0][2][3])"
   ]
  },
  {
   "cell_type": "code",
   "execution_count": 24,
   "metadata": {},
   "outputs": [
    {
     "name": "stdout",
     "output_type": "stream",
     "text": [
      "600.197\n"
     ]
    }
   ],
   "source": [
    "print()"
   ]
  },
  {
   "cell_type": "code",
   "execution_count": 26,
   "metadata": {},
   "outputs": [
    {
     "data": {
      "text/html": [
       "<table class=\"simpletable\">\n",
       "<caption>SARIMAX Results</caption>\n",
       "<tr>\n",
       "  <th>Dep. Variable:</th>           <td>y</td>        <th>  No. Observations:  </th>    <td>30</td>   \n",
       "</tr>\n",
       "<tr>\n",
       "  <th>Model:</th>           <td>SARIMAX(0, 1, 0)</td> <th>  Log Likelihood     </th> <td>-296.731</td>\n",
       "</tr>\n",
       "<tr>\n",
       "  <th>Date:</th>            <td>Wed, 28 Apr 2021</td> <th>  AIC                </th>  <td>597.462</td>\n",
       "</tr>\n",
       "<tr>\n",
       "  <th>Time:</th>                <td>18:40:05</td>     <th>  BIC                </th>  <td>600.197</td>\n",
       "</tr>\n",
       "<tr>\n",
       "  <th>Sample:</th>                  <td>0</td>        <th>  HQIC               </th>  <td>598.318</td>\n",
       "</tr>\n",
       "<tr>\n",
       "  <th></th>                       <td> - 30</td>      <th>                     </th>     <td> </td>   \n",
       "</tr>\n",
       "<tr>\n",
       "  <th>Covariance Type:</th>        <td>opg</td>       <th>                     </th>     <td> </td>   \n",
       "</tr>\n",
       "</table>"
      ],
      "text/plain": [
       "<class 'statsmodels.iolib.table.SimpleTable'>"
      ]
     },
     "execution_count": 26,
     "metadata": {},
     "output_type": "execute_result"
    }
   ],
   "source": [
    "result.summary().tables[0]"
   ]
  },
  {
   "cell_type": "code",
   "execution_count": 28,
   "metadata": {},
   "outputs": [
    {
     "name": "stdout",
     "output_type": "stream",
     "text": [
      "600.197\n"
     ]
    }
   ],
   "source": [
    "BIC = \n",
    "print(BIC)"
   ]
  },
  {
   "cell_type": "code",
   "execution_count": 37,
   "metadata": {},
   "outputs": [],
   "source": [
    "Metrics = {\n",
    "    \"Log likelihood\": result.summary().tables[0][1][3].as_text,\n",
    "    \"AIC\" : result.summary().tables[0][2][3],\n",
    "    \"BIC\": result.summary().tables[0][3][3]\n",
    "}"
   ]
  },
  {
   "cell_type": "code",
   "execution_count": 30,
   "metadata": {},
   "outputs": [
    {
     "data": {
      "text/plain": [
       "{'BIC': <statsmodels.iolib.table.Cell at 0x1e451abe7c0>}"
      ]
     },
     "execution_count": 30,
     "metadata": {},
     "output_type": "execute_result"
    }
   ],
   "source": [
    "keys"
   ]
  },
  {
   "cell_type": "code",
   "execution_count": 44,
   "metadata": {},
   "outputs": [
    {
     "data": {
      "text/html": [
       "<div>\n",
       "<style scoped>\n",
       "    .dataframe tbody tr th:only-of-type {\n",
       "        vertical-align: middle;\n",
       "    }\n",
       "\n",
       "    .dataframe tbody tr th {\n",
       "        vertical-align: top;\n",
       "    }\n",
       "\n",
       "    .dataframe thead th {\n",
       "        text-align: right;\n",
       "    }\n",
       "</style>\n",
       "<table border=\"1\" class=\"dataframe\">\n",
       "  <thead>\n",
       "    <tr style=\"text-align: right;\">\n",
       "      <th></th>\n",
       "      <th>Log likelihood</th>\n",
       "      <th>AIC</th>\n",
       "      <th>BIC</th>\n",
       "    </tr>\n",
       "  </thead>\n",
       "  <tbody>\n",
       "    <tr>\n",
       "      <th>0</th>\n",
       "      <td>-296.731</td>\n",
       "      <td>597.462</td>\n",
       "      <td>600.197</td>\n",
       "    </tr>\n",
       "  </tbody>\n",
       "</table>\n",
       "</div>"
      ],
      "text/plain": [
       "  Log likelihood      AIC      BIC\n",
       "0       -296.731  597.462  600.197"
      ]
     },
     "execution_count": 44,
     "metadata": {},
     "output_type": "execute_result"
    }
   ],
   "source": [
    "metrics_data = pd.DataFrame(Metrics, index= [0])\n",
    "metrics_data"
   ]
  },
  {
   "cell_type": "code",
   "execution_count": 45,
   "metadata": {},
   "outputs": [
    {
     "name": "stdout",
     "output_type": "stream",
     "text": [
      "597.462\n"
     ]
    }
   ],
   "source": [
    "print(metrics_data['AIC'].values[0])"
   ]
  },
  {
   "cell_type": "code",
   "execution_count": 47,
   "metadata": {},
   "outputs": [
    {
     "ename": "TypeError",
     "evalue": "int() argument must be a string, a bytes-like object or a number, not 'Cell'",
     "output_type": "error",
     "traceback": [
      "\u001b[1;31m---------------------------------------------------------------------------\u001b[0m",
      "\u001b[1;31mTypeError\u001b[0m                                 Traceback (most recent call last)",
      "\u001b[1;32m<ipython-input-47-cf9c34833ae4>\u001b[0m in \u001b[0;36m<module>\u001b[1;34m\u001b[0m\n\u001b[1;32m----> 1\u001b[1;33m \u001b[0mint\u001b[0m\u001b[1;33m(\u001b[0m\u001b[0mmetrics_data\u001b[0m\u001b[1;33m[\u001b[0m\u001b[1;34m'AIC'\u001b[0m\u001b[1;33m]\u001b[0m\u001b[1;33m.\u001b[0m\u001b[0mvalues\u001b[0m\u001b[1;33m[\u001b[0m\u001b[1;36m0\u001b[0m\u001b[1;33m]\u001b[0m\u001b[1;33m)\u001b[0m\u001b[1;33m*\u001b[0m\u001b[0mint\u001b[0m\u001b[1;33m(\u001b[0m\u001b[0mmetrics_data\u001b[0m\u001b[1;33m[\u001b[0m\u001b[1;34m'BIC'\u001b[0m\u001b[1;33m]\u001b[0m\u001b[1;33m.\u001b[0m\u001b[0mvalues\u001b[0m\u001b[1;33m[\u001b[0m\u001b[1;36m0\u001b[0m\u001b[1;33m]\u001b[0m\u001b[1;33m)\u001b[0m\u001b[1;33m\u001b[0m\u001b[1;33m\u001b[0m\u001b[0m\n\u001b[0m",
      "\u001b[1;31mTypeError\u001b[0m: int() argument must be a string, a bytes-like object or a number, not 'Cell'"
     ]
    }
   ],
   "source": [
    "int(metrics_data['AIC'].values[0])*int(metrics_data['BIC'].values[0])"
   ]
  },
  {
   "cell_type": "code",
   "execution_count": 60,
   "metadata": {},
   "outputs": [],
   "source": [
    "data = statsmodels.iolib.table.SimpleTable(data)\n",
    "data = data.as_text()"
   ]
  },
  {
   "cell_type": "code",
   "execution_count": 62,
   "metadata": {},
   "outputs": [
    {
     "data": {
      "text/plain": [
       "166"
      ]
     },
     "execution_count": 62,
     "metadata": {},
     "output_type": "execute_result"
    }
   ],
   "source": [
    "data.find(\"Log Likelihood\")"
   ]
  },
  {
   "cell_type": "code",
   "execution_count": 69,
   "metadata": {},
   "outputs": [
    {
     "data": {
      "text/plain": [
       "'-296.731\\n'"
      ]
     },
     "execution_count": 69,
     "metadata": {},
     "output_type": "execute_result"
    }
   ],
   "source": [
    "data[186:195]"
   ]
  },
  {
   "cell_type": "code",
   "execution_count": 73,
   "metadata": {},
   "outputs": [
    {
     "data": {
      "text/plain": [
       "'        y'"
      ]
     },
     "execution_count": 73,
     "metadata": {},
     "output_type": "execute_result"
    }
   ],
   "source": [
    "result.summary().tables[0].as_text()[186:195]"
   ]
  },
  {
   "cell_type": "code",
   "execution_count": 3,
   "metadata": {},
   "outputs": [],
   "source": [
    "metrics = result.summary().tables[0].as_csv()"
   ]
  },
  {
   "cell_type": "code",
   "execution_count": 97,
   "metadata": {},
   "outputs": [
    {
     "data": {
      "text/plain": [
       "'-296.731'"
      ]
     },
     "execution_count": 97,
     "metadata": {},
     "output_type": "execute_result"
    }
   ],
   "source": [
    "metrics = metrics.split(\",\")\n",
    "Log_likelihood = metrics[8].replace('\\n', ' ').split(' ')[0]"
   ]
  },
  {
   "cell_type": "code",
   "execution_count": 103,
   "metadata": {},
   "outputs": [
    {
     "data": {
      "text/plain": [
       "'597.462'"
      ]
     },
     "execution_count": 103,
     "metadata": {},
     "output_type": "execute_result"
    }
   ],
   "source": [
    "AIC = metrics[12].replace(' \\n', ' ').split(' ')[0]"
   ]
  },
  {
   "cell_type": "code",
   "execution_count": 102,
   "metadata": {},
   "outputs": [
    {
     "data": {
      "text/plain": [
       "'600.197'"
      ]
     },
     "execution_count": 102,
     "metadata": {},
     "output_type": "execute_result"
    }
   ],
   "source": [
    "BIC = metrics[15].replace(' \\n', ' ').split(' ')[0]"
   ]
  },
  {
   "cell_type": "code",
   "execution_count": 104,
   "metadata": {},
   "outputs": [
    {
     "name": "stdout",
     "output_type": "stream",
     "text": [
      "-296.731 597.462 600.197\n"
     ]
    }
   ],
   "source": [
    "metrics = model.summary().tables[0].as_csv()\n",
    "metrics = metrics.split(\",\")\n",
    "Log_likelihood = metrics[8].replace('\\n', ' ').split(' ')[0]\n",
    "AIC = metrics[12].replace(' \\n', ' ').split(' ')[0]\n",
    "BIC = metrics[15].replace(' \\n', ' ').split(' ')[0]\n",
    "\n",
    "print(Log_likelihood, AIC, BIC)"
   ]
  },
  {
   "cell_type": "code",
   "execution_count": 10,
   "metadata": {},
   "outputs": [],
   "source": [
    "metrics = model.summary().tables[0].as_csv()\n",
    "metrics = metrics.split(\",\")"
   ]
  },
  {
   "cell_type": "code",
   "execution_count": 13,
   "metadata": {},
   "outputs": [
    {
     "data": {
      "text/plain": [
       "'SARIMAX(0, 1, 0)'"
      ]
     },
     "execution_count": 13,
     "metadata": {},
     "output_type": "execute_result"
    }
   ],
   "source": [
    "str(metrics[4]+','+str(metrics[5])+','+str(metrics[6]))"
   ]
  },
  {
   "cell_type": "code",
   "execution_count": null,
   "metadata": {},
   "outputs": [],
   "source": []
  }
 ],
 "metadata": {
  "kernelspec": {
   "display_name": "Python 3",
   "language": "python",
   "name": "python3"
  },
  "language_info": {
   "codemirror_mode": {
    "name": "ipython",
    "version": 3
   },
   "file_extension": ".py",
   "mimetype": "text/x-python",
   "name": "python",
   "nbconvert_exporter": "python",
   "pygments_lexer": "ipython3",
   "version": "3.8.3"
  }
 },
 "nbformat": 4,
 "nbformat_minor": 4
}
